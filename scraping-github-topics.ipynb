{
 "cells": [
  {
   "cell_type": "markdown",
   "metadata": {
    "id": "Dqvw--IWQunP"
   },
   "source": [
    "## Top repostitories for github topics\n"
   ]
  },
  {
   "cell_type": "markdown",
   "metadata": {
    "id": "mPjqTdygRXX8"
   },
   "source": [
    "# Pick a website and describe your objective\n",
    "- Browse through different sites and pick on to scrape. Check the \"Project Ideas\" section for inspiration.\n",
    "- Identify the information you'd like to scrape from the site. Decide the format of the output CSV file.\n",
    "- Summarize your project idea and outline your strategy in a Juptyer notebook. Use the \"New\" button above.\n",
    "\n",
    "## project outline\n",
    " -we're going to scrape https://github.com/topics\n",
    " - we'll get a list of topics. for each topic title, topic page URL and topic descripition\n",
    " -for each topic, we'll get the top 25 repositories in the topic fromthe topic page\n",
    " -for each repository, we'll grab the  repo name, username, stars and repo URL\n",
    " -for each topic we'll create a CSV file in the following format.\n",
    " "
   ]
  },
  {
   "cell_type": "code",
   "execution_count": null,
   "metadata": {
    "id": "lHpLxPEpQtqe"
   },
   "outputs": [],
   "source": []
  },
  {
   "cell_type": "markdown",
   "metadata": {
    "id": "5jejYQ_5R6AQ"
   },
   "source": [
    "# Use request library to download the webpages"
   ]
  },
  {
   "cell_type": "code",
   "execution_count": 99,
   "metadata": {
    "id": "1rFiOwilQtuO"
   },
   "outputs": [],
   "source": [
    "import requests\n",
    "topics_url = \"https://github.com/topics\"\n",
    "\n"
   ]
  },
  {
   "cell_type": "code",
   "execution_count": 100,
   "metadata": {
    "id": "qa90rj5CeD63"
   },
   "outputs": [],
   "source": [
    "response = requests.get(topics_url)"
   ]
  },
  {
   "cell_type": "code",
   "execution_count": 101,
   "metadata": {
    "colab": {
     "base_uri": "https://localhost:8080/"
    },
    "collapsed": true,
    "executionInfo": {
     "elapsed": 214,
     "status": "ok",
     "timestamp": 1676520942946,
     "user": {
      "displayName": "Saurabh Belsare",
      "userId": "06171279945085691617"
     },
     "user_tz": -330
    },
    "id": "WBdJjyzFdykP",
    "outputId": "92ee568b-4d97-4aec-cb8b-67f219ece3e6"
   },
   "outputs": [
    {
     "data": {
      "text/plain": [
       "200"
      ]
     },
     "execution_count": 101,
     "metadata": {},
     "output_type": "execute_result"
    }
   ],
   "source": [
    "response.status_code"
   ]
  },
  {
   "cell_type": "code",
   "execution_count": 102,
   "metadata": {
    "id": "b0FnTuUmbMIg"
   },
   "outputs": [],
   "source": [
    "page_contents = response.text"
   ]
  },
  {
   "cell_type": "code",
   "execution_count": null,
   "metadata": {
    "colab": {
     "base_uri": "https://localhost:8080/",
     "height": 244
    },
    "collapsed": true,
    "executionInfo": {
     "elapsed": 211,
     "status": "ok",
     "timestamp": 1676520942948,
     "user": {
      "displayName": "Saurabh Belsare",
      "userId": "06171279945085691617"
     },
     "user_tz": -330
    },
    "id": "7MVpq6C0dp2O",
    "outputId": "efbc636a-e7ed-4546-e380-2d3ba18b6823"
   },
   "outputs": [],
   "source": [
    "page_contents[:1000]"
   ]
  },
  {
   "cell_type": "code",
   "execution_count": 104,
   "metadata": {},
   "outputs": [],
   "source": [
    "with open('webpage.html', \"w\", encoding=\"utf-8\") as f:\n",
    "    f.write(page_contents)"
   ]
  },
  {
   "cell_type": "markdown",
   "metadata": {
    "id": "wlCIwGf_SEt4"
   },
   "source": [
    "# Use BeautifulSoup to extract information"
   ]
  },
  {
   "cell_type": "code",
   "execution_count": 105,
   "metadata": {
    "id": "LxVMCdOPQt5i"
   },
   "outputs": [],
   "source": [
    "from bs4 import BeautifulSoup\n"
   ]
  },
  {
   "cell_type": "code",
   "execution_count": 106,
   "metadata": {
    "id": "rRJtq-Dcbgbs"
   },
   "outputs": [],
   "source": [
    "doc = BeautifulSoup(page_contents,'html.parser')"
   ]
  },
  {
   "cell_type": "code",
   "execution_count": null,
   "metadata": {
    "collapsed": true,
    "id": "QionvViWbgoX"
   },
   "outputs": [],
   "source": [
    "doc"
   ]
  },
  {
   "cell_type": "code",
   "execution_count": 108,
   "metadata": {
    "id": "0-IfFPi7hSuy"
   },
   "outputs": [],
   "source": [
    "p_tags = doc.find_all('p')"
   ]
  },
  {
   "cell_type": "code",
   "execution_count": null,
   "metadata": {
    "id": "ZtqpXehbg0ti"
   },
   "outputs": [],
   "source": [
    "p_tags[:5]"
   ]
  },
  {
   "cell_type": "code",
   "execution_count": 110,
   "metadata": {
    "id": "OVdbQHAQk5tM"
   },
   "outputs": [],
   "source": [
    "selection_class = \"f3 lh-condensed mb-0 mt-1 Link--primary\"\n",
    "topic_title_tags = doc.find_all('p',{'class': selection_class})"
   ]
  },
  {
   "cell_type": "code",
   "execution_count": 111,
   "metadata": {
    "colab": {
     "base_uri": "https://localhost:8080/"
    },
    "collapsed": true,
    "executionInfo": {
     "elapsed": 104,
     "status": "ok",
     "timestamp": 1676520942953,
     "user": {
      "displayName": "Saurabh Belsare",
      "userId": "06171279945085691617"
     },
     "user_tz": -330
    },
    "id": "DXCk6mx_glq5",
    "outputId": "e33b0e44-e123-47db-ef4b-54edda0d0122"
   },
   "outputs": [
    {
     "data": {
      "text/plain": [
       "30"
      ]
     },
     "execution_count": 111,
     "metadata": {},
     "output_type": "execute_result"
    }
   ],
   "source": [
    "len(topic_title_tags)"
   ]
  },
  {
   "cell_type": "code",
   "execution_count": null,
   "metadata": {
    "colab": {
     "base_uri": "https://localhost:8080/"
    },
    "collapsed": true,
    "executionInfo": {
     "elapsed": 100,
     "status": "ok",
     "timestamp": 1676520942954,
     "user": {
      "displayName": "Saurabh Belsare",
      "userId": "06171279945085691617"
     },
     "user_tz": -330
    },
    "id": "SbIH7eNNgmdj",
    "outputId": "7ce1b118-048a-4a99-af4e-af63d81ab074"
   },
   "outputs": [],
   "source": [
    "topic_title_tags[:5]"
   ]
  },
  {
   "cell_type": "code",
   "execution_count": 113,
   "metadata": {
    "id": "8bxnjvi7m74z"
   },
   "outputs": [],
   "source": [
    "\n",
    "description_class = \"f5 color-fg-muted mb-0 mt-1\"\n",
    "topic_description_tag = doc.find_all('p',{'class': description_class})"
   ]
  },
  {
   "cell_type": "code",
   "execution_count": 114,
   "metadata": {
    "colab": {
     "base_uri": "https://localhost:8080/"
    },
    "collapsed": true,
    "executionInfo": {
     "elapsed": 97,
     "status": "ok",
     "timestamp": 1676520942957,
     "user": {
      "displayName": "Saurabh Belsare",
      "userId": "06171279945085691617"
     },
     "user_tz": -330
    },
    "id": "pTHu_c-0maIU",
    "outputId": "2c6b479f-a388-4111-8a0f-f257c439dde8"
   },
   "outputs": [
    {
     "data": {
      "text/plain": [
       "30"
      ]
     },
     "execution_count": 114,
     "metadata": {},
     "output_type": "execute_result"
    }
   ],
   "source": [
    "len(topic_description_tag)"
   ]
  },
  {
   "cell_type": "code",
   "execution_count": null,
   "metadata": {
    "colab": {
     "base_uri": "https://localhost:8080/"
    },
    "collapsed": true,
    "executionInfo": {
     "elapsed": 93,
     "status": "ok",
     "timestamp": 1676520942958,
     "user": {
      "displayName": "Saurabh Belsare",
      "userId": "06171279945085691617"
     },
     "user_tz": -330
    },
    "id": "X_HAlrUDmaFX",
    "outputId": "0508ee14-be58-4d30-9c00-fec9c01c95bc"
   },
   "outputs": [],
   "source": [
    "topic_description_tag[:5]"
   ]
  },
  {
   "cell_type": "code",
   "execution_count": 116,
   "metadata": {
    "id": "QS7W8mU2n9_L"
   },
   "outputs": [],
   "source": [
    "topic_title_tag0 = topic_title_tags[0]"
   ]
  },
  {
   "cell_type": "code",
   "execution_count": null,
   "metadata": {
    "colab": {
     "base_uri": "https://localhost:8080/"
    },
    "collapsed": true,
    "executionInfo": {
     "elapsed": 89,
     "status": "ok",
     "timestamp": 1676520942959,
     "user": {
      "displayName": "Saurabh Belsare",
      "userId": "06171279945085691617"
     },
     "user_tz": -330
    },
    "id": "QMUSADAyHyYX",
    "outputId": "aee11ccc-f3e9-4e95-f22e-84871bbef4cd"
   },
   "outputs": [],
   "source": [
    "div_tag = topic_title_tag0.parent\n",
    "div_tag\n"
   ]
  },
  {
   "cell_type": "code",
   "execution_count": 118,
   "metadata": {
    "colab": {
     "base_uri": "https://localhost:8080/"
    },
    "collapsed": true,
    "executionInfo": {
     "elapsed": 85,
     "status": "ok",
     "timestamp": 1676520942960,
     "user": {
      "displayName": "Saurabh Belsare",
      "userId": "06171279945085691617"
     },
     "user_tz": -330
    },
    "id": "stHG74c9n97T",
    "outputId": "d22be6c2-071b-4c12-b990-f1c8af0020ab"
   },
   "outputs": [
    {
     "data": {
      "text/plain": [
       "30"
      ]
     },
     "execution_count": 118,
     "metadata": {},
     "output_type": "execute_result"
    }
   ],
   "source": [
    "\n",
    "topic_link_tags = doc.find_all('a',{'class':\"no-underline flex-1 d-flex flex-column\"})\n",
    "len(topic_link_tags)"
   ]
  },
  {
   "cell_type": "code",
   "execution_count": 119,
   "metadata": {
    "colab": {
     "base_uri": "https://localhost:8080/"
    },
    "executionInfo": {
     "elapsed": 80,
     "status": "ok",
     "timestamp": 1676520942960,
     "user": {
      "displayName": "Saurabh Belsare",
      "userId": "06171279945085691617"
     },
     "user_tz": -330
    },
    "id": "oeDMqGmgn922",
    "outputId": "b1472ec0-fef4-4476-887b-a3754727a261"
   },
   "outputs": [
    {
     "name": "stdout",
     "output_type": "stream",
     "text": [
      "https://github.com/topics/3d\n"
     ]
    }
   ],
   "source": [
    "topic0_url = \"https://github.com\" + topic_link_tags[0]['href']\n",
    "print(topic0_url)"
   ]
  },
  {
   "cell_type": "code",
   "execution_count": 120,
   "metadata": {
    "colab": {
     "base_uri": "https://localhost:8080/"
    },
    "executionInfo": {
     "elapsed": 76,
     "status": "ok",
     "timestamp": 1676520942960,
     "user": {
      "displayName": "Saurabh Belsare",
      "userId": "06171279945085691617"
     },
     "user_tz": -330
    },
    "id": "P4hUI7e4n9zq",
    "outputId": "4c36bb6c-f50d-46c0-cc9b-4e7a9e954461"
   },
   "outputs": [
    {
     "name": "stdout",
     "output_type": "stream",
     "text": [
      "https://github.com/topics/ajax\n"
     ]
    }
   ],
   "source": [
    "topic1_url = \"https://github.com\" + topic_link_tags[1]['href']\n",
    "print(topic1_url)"
   ]
  },
  {
   "cell_type": "code",
   "execution_count": null,
   "metadata": {
    "colab": {
     "base_uri": "https://localhost:8080/",
     "height": 36
    },
    "collapsed": true,
    "executionInfo": {
     "elapsed": 71,
     "status": "ok",
     "timestamp": 1676520942961,
     "user": {
      "displayName": "Saurabh Belsare",
      "userId": "06171279945085691617"
     },
     "user_tz": -330
    },
    "id": "T58vlhMksufV",
    "outputId": "c09a8b96-2640-4af0-a2a1-712c65be92b1"
   },
   "outputs": [],
   "source": [
    "topic_title_tags[0].text\n"
   ]
  },
  {
   "cell_type": "code",
   "execution_count": null,
   "metadata": {
    "colab": {
     "base_uri": "https://localhost:8080/"
    },
    "collapsed": true,
    "executionInfo": {
     "elapsed": 69,
     "status": "ok",
     "timestamp": 1676520942961,
     "user": {
      "displayName": "Saurabh Belsare",
      "userId": "06171279945085691617"
     },
     "user_tz": -330
    },
    "id": "cZjga7MtsubU",
    "outputId": "5f75e0c9-4ffe-40a4-923c-1561f2e8e811"
   },
   "outputs": [],
   "source": [
    "topic_titles = []\n",
    "for tag in topic_title_tags:\n",
    "  topic_titles.append(tag.text)\n",
    "\n",
    "print(topic_titles)"
   ]
  },
  {
   "cell_type": "code",
   "execution_count": null,
   "metadata": {
    "colab": {
     "base_uri": "https://localhost:8080/"
    },
    "collapsed": true,
    "executionInfo": {
     "elapsed": 66,
     "status": "ok",
     "timestamp": 1676520942962,
     "user": {
      "displayName": "Saurabh Belsare",
      "userId": "06171279945085691617"
     },
     "user_tz": -330
    },
    "id": "nmp4fgXesuXZ",
    "outputId": "5f6b838d-adef-4267-909e-ea55684d09e0"
   },
   "outputs": [],
   "source": [
    "topic_description = []\n",
    "for tag in topic_description_tag:\n",
    "  topic_description.append(tag.text.strip())\n",
    "\n",
    "print(topic_description)"
   ]
  },
  {
   "cell_type": "code",
   "execution_count": null,
   "metadata": {
    "colab": {
     "base_uri": "https://localhost:8080/"
    },
    "collapsed": true,
    "executionInfo": {
     "elapsed": 1054,
     "status": "ok",
     "timestamp": 1676522710361,
     "user": {
      "displayName": "Saurabh Belsare",
      "userId": "06171279945085691617"
     },
     "user_tz": -330
    },
    "id": "F6xkqHu3suNZ",
    "outputId": "28028bbd-567e-4725-847f-c7da1e0ba468"
   },
   "outputs": [],
   "source": [
    "\n",
    "topic_urls = []\n",
    "base_urls = \"https://github.com\"\n",
    "for tag in topic_link_tags:\n",
    "  topic_urls.append(base_urls + tag['href'])\n",
    "\n",
    "print(topic_urls)"
   ]
  },
  {
   "cell_type": "code",
   "execution_count": null,
   "metadata": {
    "id": "NuLs3j87n9tz"
   },
   "outputs": [],
   "source": []
  },
  {
   "cell_type": "markdown",
   "metadata": {
    "id": "-OzgRk41SSnB"
   },
   "source": [
    "# Create CSV file with extracted information"
   ]
  },
  {
   "cell_type": "code",
   "execution_count": 125,
   "metadata": {
    "id": "7A8OWclJSNHe"
   },
   "outputs": [],
   "source": [
    "import pandas as pd"
   ]
  },
  {
   "cell_type": "code",
   "execution_count": 126,
   "metadata": {
    "id": "ptGjQhJ7Qkwq"
   },
   "outputs": [],
   "source": [
    "topics_dict = { 'title':topic_titles,\n",
    "               'description':topic_description,\n",
    "               'url':topics_url\n",
    "               }"
   ]
  },
  {
   "cell_type": "code",
   "execution_count": 127,
   "metadata": {
    "id": "L4k-hihRQkqr"
   },
   "outputs": [],
   "source": [
    "topic_df = pd.DataFrame(topics_dict)"
   ]
  },
  {
   "cell_type": "code",
   "execution_count": null,
   "metadata": {
    "colab": {
     "base_uri": "https://localhost:8080/",
     "height": 1000
    },
    "collapsed": true,
    "executionInfo": {
     "elapsed": 54,
     "status": "ok",
     "timestamp": 1676520942965,
     "user": {
      "displayName": "Saurabh Belsare",
      "userId": "06171279945085691617"
     },
     "user_tz": -330
    },
    "id": "rA-XQ1hvQkmd",
    "outputId": "e7dccd9e-0a4b-4d4d-f65d-b40a5441526f"
   },
   "outputs": [],
   "source": [
    "topic_df"
   ]
  },
  {
   "cell_type": "code",
   "execution_count": 129,
   "metadata": {
    "id": "YC3_OWFpQkiq"
   },
   "outputs": [],
   "source": [
    "topic_df.to_csv('topics.csv', index=None )"
   ]
  },
  {
   "cell_type": "markdown",
   "metadata": {
    "id": "6m8CeVYlZz7U"
   },
   "source": [
    "# Getting information out of a topic page"
   ]
  },
  {
   "cell_type": "code",
   "execution_count": 130,
   "metadata": {
    "id": "-j4I6Ce6VYiW"
   },
   "outputs": [],
   "source": [
    "topic_page_url = topic_urls[0]\n"
   ]
  },
  {
   "cell_type": "code",
   "execution_count": 131,
   "metadata": {
    "colab": {
     "base_uri": "https://localhost:8080/",
     "height": 36
    },
    "executionInfo": {
     "elapsed": 17,
     "status": "ok",
     "timestamp": 1676520943499,
     "user": {
      "displayName": "Saurabh Belsare",
      "userId": "06171279945085691617"
     },
     "user_tz": -330
    },
    "id": "uxip4n5PVYeK",
    "outputId": "a23e7062-d91c-424f-8a1d-1cf37ded4298"
   },
   "outputs": [
    {
     "data": {
      "text/plain": [
       "'https://github.com/topics/3d'"
      ]
     },
     "execution_count": 131,
     "metadata": {},
     "output_type": "execute_result"
    }
   ],
   "source": [
    "topic_page_url"
   ]
  },
  {
   "cell_type": "code",
   "execution_count": 132,
   "metadata": {
    "id": "R_aiMc8LQuFF"
   },
   "outputs": [],
   "source": [
    "response = requests.get(topic_page_url)"
   ]
  },
  {
   "cell_type": "code",
   "execution_count": 133,
   "metadata": {
    "colab": {
     "base_uri": "https://localhost:8080/"
    },
    "executionInfo": {
     "elapsed": 16,
     "status": "ok",
     "timestamp": 1676520943500,
     "user": {
      "displayName": "Saurabh Belsare",
      "userId": "06171279945085691617"
     },
     "user_tz": -330
    },
    "id": "iGC8rDKAZ8ZR",
    "outputId": "5092ee05-0144-454f-df22-a5c93d6ad5e1"
   },
   "outputs": [
    {
     "data": {
      "text/plain": [
       "455632"
      ]
     },
     "execution_count": 133,
     "metadata": {},
     "output_type": "execute_result"
    }
   ],
   "source": [
    "response.status_code\n",
    "len(response.text)"
   ]
  },
  {
   "cell_type": "code",
   "execution_count": 134,
   "metadata": {
    "id": "PDSvF6nuZ8Tc"
   },
   "outputs": [],
   "source": [
    "topic_doc = BeautifulSoup(response.text,'html.parser')"
   ]
  },
  {
   "cell_type": "code",
   "execution_count": null,
   "metadata": {
    "collapsed": true,
    "id": "lTtetkLpeKUf"
   },
   "outputs": [],
   "source": [
    "topic_doc"
   ]
  },
  {
   "cell_type": "code",
   "execution_count": 136,
   "metadata": {
    "id": "7kJHlpwveKQD"
   },
   "outputs": [],
   "source": [
    "h3_selection = \"f3 color-fg-muted text-normal lh-condensed\"\n",
    "repo_tags = topic_doc.find_all('h3',{'class':h3_selection})"
   ]
  },
  {
   "cell_type": "code",
   "execution_count": null,
   "metadata": {
    "collapsed": true,
    "id": "B6ahLy9ceKKu"
   },
   "outputs": [],
   "source": [
    "len(repo_tags)\n",
    "repo_tags[:5]"
   ]
  },
  {
   "cell_type": "code",
   "execution_count": 138,
   "metadata": {
    "colab": {
     "base_uri": "https://localhost:8080/",
     "height": 36
    },
    "executionInfo": {
     "elapsed": 65,
     "status": "ok",
     "timestamp": 1676520944884,
     "user": {
      "displayName": "Saurabh Belsare",
      "userId": "06171279945085691617"
     },
     "user_tz": -330
    },
    "id": "b_dOGPmIeKHP",
    "outputId": "cb4c7bc6-63a9-4467-ad45-4fdad912e512"
   },
   "outputs": [
    {
     "data": {
      "text/plain": [
       "'mrdoob'"
      ]
     },
     "execution_count": 138,
     "metadata": {},
     "output_type": "execute_result"
    }
   ],
   "source": [
    "a_tags  = repo_tags[0].find_all('a')\n",
    "a_tags[0].text.strip()"
   ]
  },
  {
   "cell_type": "code",
   "execution_count": 139,
   "metadata": {
    "colab": {
     "base_uri": "https://localhost:8080/",
     "height": 36
    },
    "executionInfo": {
     "elapsed": 64,
     "status": "ok",
     "timestamp": 1676520944885,
     "user": {
      "displayName": "Saurabh Belsare",
      "userId": "06171279945085691617"
     },
     "user_tz": -330
    },
    "id": "dLNiDI9_Mibk",
    "outputId": "f51940c6-ced5-4294-f196-8f64dfc59170"
   },
   "outputs": [
    {
     "data": {
      "text/plain": [
       "'three.js'"
      ]
     },
     "execution_count": 139,
     "metadata": {},
     "output_type": "execute_result"
    }
   ],
   "source": [
    "a_tags[1].text.strip()"
   ]
  },
  {
   "cell_type": "code",
   "execution_count": 140,
   "metadata": {
    "colab": {
     "base_uri": "https://localhost:8080/"
    },
    "executionInfo": {
     "elapsed": 63,
     "status": "ok",
     "timestamp": 1676520944886,
     "user": {
      "displayName": "Saurabh Belsare",
      "userId": "06171279945085691617"
     },
     "user_tz": -330
    },
    "id": "D6hrO63YeKDd",
    "outputId": "e2c4bda7-f8f2-404f-a7a1-6d253c0a17ec"
   },
   "outputs": [
    {
     "name": "stdout",
     "output_type": "stream",
     "text": [
      "https://github.com/mrdoob/three.js\n"
     ]
    }
   ],
   "source": [
    "repo_url = base_urls + a_tags[1]['href']\n",
    "print(repo_url)"
   ]
  },
  {
   "cell_type": "code",
   "execution_count": 141,
   "metadata": {
    "id": "bEnPgLS8eJ_N"
   },
   "outputs": [],
   "source": [
    "star_selection = \"Counter js-social-count\"\n",
    "star_tag = topic_doc.find_all('span',{\"class\":star_selection})\n"
   ]
  },
  {
   "cell_type": "code",
   "execution_count": 142,
   "metadata": {
    "colab": {
     "base_uri": "https://localhost:8080/",
     "height": 36
    },
    "executionInfo": {
     "elapsed": 56,
     "status": "ok",
     "timestamp": 1676520944889,
     "user": {
      "displayName": "Saurabh Belsare",
      "userId": "06171279945085691617"
     },
     "user_tz": -330
    },
    "id": "vwOLiUfdeJ61",
    "outputId": "996e1f4e-4ad9-49ea-8f37-6c9de63d28b1"
   },
   "outputs": [
    {
     "data": {
      "text/plain": [
       "'89.1k'"
      ]
     },
     "execution_count": 142,
     "metadata": {},
     "output_type": "execute_result"
    }
   ],
   "source": [
    "len(star_tag)\n",
    "star_tag[0].text"
   ]
  },
  {
   "cell_type": "code",
   "execution_count": 143,
   "metadata": {
    "id": "GpkjjPCWjqv5"
   },
   "outputs": [],
   "source": [
    "def parse_star_count(star_str):\n",
    "  star_str = star_str.strip()\n",
    "  if star_str[-1] ==  'k':\n",
    "   return  int(float(star_str[:-1])*1000)\n",
    "  return int(star_str)"
   ]
  },
  {
   "cell_type": "code",
   "execution_count": 144,
   "metadata": {
    "colab": {
     "base_uri": "https://localhost:8080/"
    },
    "executionInfo": {
     "elapsed": 56,
     "status": "ok",
     "timestamp": 1676520944891,
     "user": {
      "displayName": "Saurabh Belsare",
      "userId": "06171279945085691617"
     },
     "user_tz": -330
    },
    "id": "OU3Goj9_wmMt",
    "outputId": "822fc797-c623-438e-8de4-6a6dc3561254"
   },
   "outputs": [
    {
     "data": {
      "text/plain": [
       "89100"
      ]
     },
     "execution_count": 144,
     "metadata": {},
     "output_type": "execute_result"
    }
   ],
   "source": [
    "parse_star_count(star_tag[0].text)"
   ]
  },
  {
   "cell_type": "code",
   "execution_count": 145,
   "metadata": {
    "id": "wmo9ADNCwmBN"
   },
   "outputs": [],
   "source": [
    "def get_repo_info(h3_tag, star_tag):\n",
    "  a_tags = h3_tag.find_all('a')\n",
    "  username = a_tags[0].text.strip()\n",
    "  repo_name = a_tags[1].text.strip()\n",
    "  repo_url = base_urls + a_tags[1]['href']\n",
    "  stars = parse_star_count(star_tag.text.strip())\n",
    "  return username,repo_name,stars,repo_url"
   ]
  },
  {
   "cell_type": "markdown",
   "metadata": {
    "id": "rvTJ2hKJNHYI"
   },
   "source": [
    "-- repo_tags are all h3 tags..\n",
    " --  star_tags are all span tags"
   ]
  },
  {
   "cell_type": "code",
   "execution_count": 146,
   "metadata": {
    "colab": {
     "base_uri": "https://localhost:8080/"
    },
    "executionInfo": {
     "elapsed": 52,
     "status": "ok",
     "timestamp": 1676520944893,
     "user": {
      "displayName": "Saurabh Belsare",
      "userId": "06171279945085691617"
     },
     "user_tz": -330
    },
    "id": "o1cjtYewK3cA",
    "outputId": "99fe0cb6-0c4a-4bf1-c382-4b7610065d80"
   },
   "outputs": [
    {
     "data": {
      "text/plain": [
       "('mrdoob', 'three.js', 89100, 'https://github.com/mrdoob/three.js')"
      ]
     },
     "execution_count": 146,
     "metadata": {},
     "output_type": "execute_result"
    }
   ],
   "source": [
    "get_repo_info(repo_tags[0], star_tag[0])"
   ]
  },
  {
   "cell_type": "code",
   "execution_count": 147,
   "metadata": {
    "id": "62qcheZwK3XX"
   },
   "outputs": [],
   "source": [
    "topic_repos_dict = {\n",
    "    'username' : [],\n",
    "    'repo_name' : [],\n",
    "      'stars' : [],\n",
    "    'repo_url' : []\n",
    "\n",
    "}\n",
    "\n",
    "for i in range(len(repo_tags)):\n",
    "  repo_info = get_repo_info(repo_tags[i], star_tag[i])\n",
    "  topic_repos_dict['username'].append(repo_info[0])\n",
    "  topic_repos_dict['repo_name'].append(repo_info[1])\n",
    "  topic_repos_dict['stars'].append(repo_info[2])\n",
    "  topic_repos_dict['repo_url'].append(repo_info[3])\n"
   ]
  },
  {
   "cell_type": "code",
   "execution_count": null,
   "metadata": {
    "colab": {
     "base_uri": "https://localhost:8080/"
    },
    "collapsed": true,
    "executionInfo": {
     "elapsed": 48,
     "status": "ok",
     "timestamp": 1676520944895,
     "user": {
      "displayName": "Saurabh Belsare",
      "userId": "06171279945085691617"
     },
     "user_tz": -330
    },
    "id": "i9ddbao5K3T4",
    "outputId": "8612b21b-c52a-4479-a7d9-db9142f8a349"
   },
   "outputs": [],
   "source": [
    "topic_repos_dict"
   ]
  },
  {
   "cell_type": "code",
   "execution_count": 149,
   "metadata": {
    "id": "yUhvo-kwK3RS"
   },
   "outputs": [],
   "source": [
    "topic_repos_df = pd.DataFrame(topic_repos_dict)"
   ]
  },
  {
   "cell_type": "code",
   "execution_count": null,
   "metadata": {
    "colab": {
     "base_uri": "https://localhost:8080/",
     "height": 775
    },
    "collapsed": true,
    "executionInfo": {
     "elapsed": 43,
     "status": "ok",
     "timestamp": 1676520944897,
     "user": {
      "displayName": "Saurabh Belsare",
      "userId": "06171279945085691617"
     },
     "user_tz": -330
    },
    "id": "fImlyaRqPSmS",
    "outputId": "ea0decb6-c251-4573-df6b-88b169efe74a"
   },
   "outputs": [],
   "source": [
    "topic_repos_df"
   ]
  },
  {
   "cell_type": "code",
   "execution_count": null,
   "metadata": {
    "id": "c_QCkscQQxj9"
   },
   "outputs": [],
   "source": []
  },
  {
   "cell_type": "markdown",
   "metadata": {
    "id": "8keyB0h6_aNz"
   },
   "source": [
    "# FINAL CODE"
   ]
  },
  {
   "cell_type": "code",
   "execution_count": 151,
   "metadata": {
    "id": "rtKXAJENPSix"
   },
   "outputs": [],
   "source": [
    "# above function we created is only includes the '3d' topic repositories to\n",
    "# make it for all the topics we have to create funciton\n",
    "\n",
    "import os\n",
    "\n",
    "def get_topic_page(topic_url):\n",
    "    #download the page\n",
    "  response = requests.get(topic_url)\n",
    "  \n",
    "  #check successfull response\n",
    "  if response.status_code != 200:\n",
    "     raise Exception('Failed to load page {}'.format(topic0_url))\n",
    "  \n",
    "  #parse using beautifulsoup \n",
    "  topic_doc = BeautifulSoup(response.text, 'html.parser')\n",
    "  return topic_doc\n",
    "\n",
    "\n",
    "def get_repo_info(h3_tag, star_tag):\n",
    "         a_tags = h3_tag.find_all('a')\n",
    "         username = a_tags[0].text.strip()\n",
    "         repo_name = a_tags[1].text.strip()\n",
    "         repo_url = base_urls + a_tags[1]['href']\n",
    "         stars = parse_star_count(star_tag.text.strip())\n",
    "         return username,repo_name,stars,repo_url\n",
    "\n",
    "def get_topic_repos(topic_doc):\n",
    "\n",
    "  #get h3 tag containing repo title, repo url and username\n",
    "  h3_selection = \"f3 color-fg-muted text-normal lh-condensed\"\n",
    "  repo_tags = topic_doc.find_all('h3',{'class':h3_selection})\n",
    "\n",
    "  #get star tag\n",
    "  star_selection = \"Counter js-social-count\"\n",
    "  star_tag = topic_doc.find_all('span',{\"class\":star_selection})\n",
    "   #get repo info\n",
    "\n",
    "  topic_repos_dict = { 'username' : [], 'repo_name' : [], 'stars' : [], 'repo_url' : []    }\n",
    "\n",
    "  for i in range(len(repo_tags)):\n",
    "       repo_info = get_repo_info(repo_tags[i], star_tag[i])\n",
    "       topic_repos_dict['username'].append(repo_info[0])\n",
    "       topic_repos_dict['repo_name'].append(repo_info[1])\n",
    "       topic_repos_dict['stars'].append(repo_info[2])\n",
    "       topic_repos_dict['repo_url'].append(repo_info[3])\n",
    "        \n",
    "  return pd.DataFrame(topic_repos_dict)\n",
    "\n",
    "def scrape_topic(topic_url, path):\n",
    "  if os.path.exists(path):\n",
    "    print(\"The file {} already exists. Skipping ...\" .format(path))\n",
    "    return\n",
    "  topic_df = get_topic_repos(get_topic_page(topic_url))\n",
    "  topic_df.to_csv(path, index=None)\n",
    "\n"
   ]
  },
  {
   "cell_type": "code",
   "execution_count": 152,
   "metadata": {
    "colab": {
     "base_uri": "https://localhost:8080/",
     "height": 36
    },
    "executionInfo": {
     "elapsed": 8,
     "status": "ok",
     "timestamp": 1676524944778,
     "user": {
      "displayName": "Saurabh Belsare",
      "userId": "06171279945085691617"
     },
     "user_tz": -330
    },
    "id": "YoWGtiDKrDw5",
    "outputId": "0be0485b-b995-44fb-a08b-3d917b25c259"
   },
   "outputs": [
    {
     "data": {
      "text/plain": [
       "'https://github.com/topics/android'"
      ]
     },
     "execution_count": 152,
     "metadata": {},
     "output_type": "execute_result"
    }
   ],
   "source": [
    "topic_urls[4]"
   ]
  },
  {
   "cell_type": "code",
   "execution_count": null,
   "metadata": {
    "collapsed": true,
    "id": "fJ-z5UivbR_G"
   },
   "outputs": [],
   "source": [
    "get_topic_repos(get_topic_page(topic_urls[4]))"
   ]
  },
  {
   "cell_type": "markdown",
   "metadata": {
    "id": "utUvZ-xWe7Sj"
   },
   "source": [
    "\n",
    "\n",
    "# Write a single function to:\n",
    "\n",
    " - Get the list of topics from the topics page\n",
    "\n",
    " - Get the list of top repos from the individual topic pages\n",
    "\n",
    " - For each topic, crate a CSV of the top repos for the topic"
   ]
  },
  {
   "cell_type": "code",
   "execution_count": 154,
   "metadata": {
    "id": "OdB9XrWvVqHj"
   },
   "outputs": [],
   "source": [
    "\n",
    "def get_topic_titles(doc):\n",
    "   selection_class = \"f3 lh-condensed mb-0 mt-1 Link--primary\"\n",
    "   topic_title_tags = doc.find_all('p',{'class': selection_class}) \n",
    "  \n",
    "   topic_titles = []\n",
    "   for tag in topic_title_tags:\n",
    "          topic_titles.append(tag.text) \n",
    "   return topic_titles\n",
    "\n",
    "def get_topic_description(doc):\n",
    "    description_class = \"f5 color-fg-muted mb-0 mt-1\"\n",
    "    topic_description_tag = doc.find_all('p',{'class': description_class})\n",
    "\n",
    "    topic_description = []\n",
    "    for tag in topic_description_tag:\n",
    "          topic_description.append(tag.text.strip())\n",
    "    return topic_description\n",
    "      \n",
    "def get_topic_urls(doc): \n",
    "  topic_link_tags = doc.find_all('a',{'class':\"no-underline flex-1 d-flex flex-column\"})\n",
    "  topic_urls = []\n",
    "  base_urls = \"https://github.com\"\n",
    "\n",
    "  for tag in topic_link_tags:\n",
    "        topic_urls.append(base_urls + tag['href'])\n",
    "\n",
    "  return topic_urls\n",
    "\n",
    "def scrape_topics():\n",
    "  topics_url = \"https://github.com/topics\"\n",
    "  response = requests.get(topics_url)\n",
    "  if response.status_code != 200:\n",
    "     raise Exception('Failed to load page {}'.format(topics_url))\n",
    "\n",
    "  topics_dict = {\n",
    "      'title' : get_topic_titles(doc),\n",
    "      'description' : get_topic_description(doc),\n",
    "      'url': get_topic_urls(doc)\n",
    "  }\n",
    "  return pd.DataFrame(topics_dict)\n"
   ]
  },
  {
   "cell_type": "code",
   "execution_count": null,
   "metadata": {
    "collapsed": true,
    "id": "IJZvIA0qVqCl"
   },
   "outputs": [],
   "source": [
    "scrape_topics()"
   ]
  },
  {
   "cell_type": "code",
   "execution_count": 156,
   "metadata": {
    "id": "q18ORLyhVp-7"
   },
   "outputs": [],
   "source": [
    "def scrape_topic_repos():\n",
    "  print('Scraping list of topics')\n",
    "  topics_df = scrape_topics()\n",
    "\n",
    "  os.makedirs('data',exist_ok = True)\n",
    "  for index, row in topics_df.iterrows():\n",
    "    print('Scraping top repositories for \"{}\"'.format(row['title']))\n",
    "    scrape_topic(row['url'], 'data/{}.csv'.format(row['title']))"
   ]
  },
  {
   "cell_type": "code",
   "execution_count": null,
   "metadata": {
    "colab": {
     "base_uri": "https://localhost:8080/"
    },
    "collapsed": true,
    "executionInfo": {
     "elapsed": 1643,
     "status": "ok",
     "timestamp": 1676529934089,
     "user": {
      "displayName": "Saurabh Belsare",
      "userId": "06171279945085691617"
     },
     "user_tz": -330
    },
    "id": "oEyTY_Bco41p",
    "outputId": "ced0542d-7975-4d1f-a860-da1ff2fc3c19"
   },
   "outputs": [],
   "source": [
    "scrape_topic_repos()"
   ]
  },
  {
   "cell_type": "code",
   "execution_count": null,
   "metadata": {},
   "outputs": [],
   "source": []
  },
  {
   "cell_type": "code",
   "execution_count": null,
   "metadata": {
    "id": "hc-m7_6Ho4qI"
   },
   "outputs": [],
   "source": []
  },
  {
   "cell_type": "code",
   "execution_count": null,
   "metadata": {
    "colab": {
     "base_uri": "https://localhost:8080/"
    },
    "executionInfo": {
     "elapsed": 43921,
     "status": "ok",
     "timestamp": 1676530756800,
     "user": {
      "displayName": "Saurabh Belsare",
      "userId": "06171279945085691617"
     },
     "user_tz": -330
    },
    "id": "yZN_x_iRBBnm",
    "outputId": "5a73380d-d515-4940-c4de-f49eca6cc2d4"
   },
   "outputs": [],
   "source": []
  },
  {
   "cell_type": "code",
   "execution_count": null,
   "metadata": {
    "colab": {
     "base_uri": "https://localhost:8080/"
    },
    "executionInfo": {
     "elapsed": 22,
     "status": "ok",
     "timestamp": 1676531470763,
     "user": {
      "displayName": "Saurabh Belsare",
      "userId": "06171279945085691617"
     },
     "user_tz": -330
    },
    "id": "povaD-VAo4mb",
    "outputId": "96b23346-2811-49fe-c595-8b37549ba053"
   },
   "outputs": [],
   "source": []
  },
  {
   "cell_type": "code",
   "execution_count": null,
   "metadata": {
    "id": "DZ7QSGI2o4iw"
   },
   "outputs": [],
   "source": []
  },
  {
   "cell_type": "code",
   "execution_count": null,
   "metadata": {
    "id": "--MLE59Po4fK"
   },
   "outputs": [],
   "source": []
  },
  {
   "cell_type": "code",
   "execution_count": null,
   "metadata": {
    "id": "auShXrLao4YB"
   },
   "outputs": [],
   "source": []
  },
  {
   "cell_type": "code",
   "execution_count": null,
   "metadata": {
    "id": "z9Xryzzvo4UQ"
   },
   "outputs": [],
   "source": []
  },
  {
   "cell_type": "code",
   "execution_count": null,
   "metadata": {
    "id": "5YUj79jtw42v"
   },
   "outputs": [],
   "source": []
  },
  {
   "cell_type": "code",
   "execution_count": null,
   "metadata": {
    "id": "NaveCSI5w4o_"
   },
   "outputs": [],
   "source": []
  },
  {
   "cell_type": "code",
   "execution_count": null,
   "metadata": {
    "id": "C2330Rxtw4i_"
   },
   "outputs": [],
   "source": []
  },
  {
   "cell_type": "code",
   "execution_count": null,
   "metadata": {
    "id": "DbmYplFXw4f3"
   },
   "outputs": [],
   "source": []
  }
 ],
 "metadata": {
  "colab": {
   "authorship_tag": "ABX9TyOMa8wPzA7YC96gBZYgBUrT",
   "provenance": []
  },
  "kernelspec": {
   "display_name": "Python 3 (ipykernel)",
   "language": "python",
   "name": "python3"
  },
  "language_info": {
   "codemirror_mode": {
    "name": "ipython",
    "version": 3
   },
   "file_extension": ".py",
   "mimetype": "text/x-python",
   "name": "python",
   "nbconvert_exporter": "python",
   "pygments_lexer": "ipython3",
   "version": "3.11.1"
  },
  "vscode": {
   "interpreter": {
    "hash": "c7ed2ea2323c2d5e9461a567ac19b966306a893bf17a84f0c209e28f76774e64"
   }
  }
 },
 "nbformat": 4,
 "nbformat_minor": 1
}
