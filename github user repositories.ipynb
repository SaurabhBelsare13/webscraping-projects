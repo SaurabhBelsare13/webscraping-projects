{
 "cells": [
  {
   "cell_type": "markdown",
   "id": "fd66e06f",
   "metadata": {},
   "source": [
    "#  Scraping GitHub user profile to create a list of their repositories with information like repository name, no. of stars, no. of forks."
   ]
  },
  {
   "cell_type": "code",
   "execution_count": 9,
   "id": "76e13d8d",
   "metadata": {},
   "outputs": [],
   "source": [
    "#Use request library to download the webpages.\n",
    "#URL is according to the user, in this project we get the information of user name 'AlexTheAnalyst'.\n",
    "#you can just put the url of user you want to explore.\n",
    "\n",
    "import requests\n",
    "topics_url = \"https://github.com/AlexTheAnalyst?tab=repositories\""
   ]
  },
  {
   "cell_type": "code",
   "execution_count": 10,
   "id": "2e924e43",
   "metadata": {},
   "outputs": [],
   "source": [
    "response = requests.get(topics_url)"
   ]
  },
  {
   "cell_type": "code",
   "execution_count": 11,
   "id": "2f33a728",
   "metadata": {
    "collapsed": true
   },
   "outputs": [
    {
     "data": {
      "text/plain": [
       "200"
      ]
     },
     "execution_count": 11,
     "metadata": {},
     "output_type": "execute_result"
    }
   ],
   "source": [
    "#check the status code ,to know that our url works properly or not \n",
    "response.status_code"
   ]
  },
  {
   "cell_type": "code",
   "execution_count": 12,
   "id": "e7e641f0",
   "metadata": {},
   "outputs": [],
   "source": [
    "#convert page content into text format\n",
    "page_contents = response.text"
   ]
  },
  {
   "cell_type": "code",
   "execution_count": 13,
   "id": "2dd8c571",
   "metadata": {},
   "outputs": [],
   "source": [
    "#here we write the f\n",
    "with open('webpage.html',\"w\",encoding=\"utf-8\") as f:\n",
    "    f.write(page_contents)"
   ]
  },
  {
   "cell_type": "code",
   "execution_count": 14,
   "id": "5e7e27e0",
   "metadata": {},
   "outputs": [],
   "source": [
    "# use BeautifulSoup to extract information"
   ]
  },
  {
   "cell_type": "code",
   "execution_count": 15,
   "id": "1ca3cbfa",
   "metadata": {},
   "outputs": [],
   "source": [
    "from bs4 import BeautifulSoup"
   ]
  },
  {
   "cell_type": "code",
   "execution_count": 16,
   "id": "6c650d4e",
   "metadata": {},
   "outputs": [],
   "source": [
    "#doc contain the html code of the page\n",
    "doc = BeautifulSoup(page_contents, 'html.parser')"
   ]
  },
  {
   "cell_type": "code",
   "execution_count": 18,
   "id": "9d6be21f",
   "metadata": {
    "collapsed": true
   },
   "outputs": [
    {
     "data": {
      "text/plain": [
       "[<h3 class=\"wb-break-all\">\n",
       " <a href=\"/AlexTheAnalyst/Data-Analytics-Bootcamp\" itemprop=\"name codeRepository\">\n",
       "         Data-Analytics-Bootcamp</a>\n",
       " <span></span><span class=\"Label Label--secondary v-align-middle ml-1 mb-1\">Public</span>\n",
       " </h3>,\n",
       " <h3 class=\"wb-break-all\">\n",
       " <a href=\"/AlexTheAnalyst/PythonYouTubeSeries\" itemprop=\"name codeRepository\">\n",
       "         PythonYouTubeSeries</a>\n",
       " <span></span><span class=\"Label Label--secondary v-align-middle ml-1 mb-1\">Public</span>\n",
       " </h3>,\n",
       " <h3 class=\"wb-break-all\">\n",
       " <a href=\"/AlexTheAnalyst/PortfolioProjects\" itemprop=\"name codeRepository\">\n",
       "         PortfolioProjects</a>\n",
       " <span></span><span class=\"Label Label--secondary v-align-middle ml-1 mb-1\">Public</span>\n",
       " </h3>,\n",
       " <h3 class=\"wb-break-all\">\n",
       " <a href=\"/AlexTheAnalyst/SQL-Code\" itemprop=\"name codeRepository\">\n",
       "         SQL-Code</a>\n",
       " <span></span><span class=\"Label Label--secondary v-align-middle ml-1 mb-1\">Public</span>\n",
       " </h3>,\n",
       " <h3 class=\"wb-break-all\">\n",
       " <a href=\"/AlexTheAnalyst/Power-BI\" itemprop=\"name codeRepository\">\n",
       "         Power-BI</a>\n",
       " <span></span><span class=\"Label Label--secondary v-align-middle ml-1 mb-1\">Public</span>\n",
       " </h3>,\n",
       " <h3 class=\"wb-break-all\">\n",
       " <a href=\"/AlexTheAnalyst/AlexTheAnalyst\" itemprop=\"name codeRepository\">\n",
       "         AlexTheAnalyst</a>\n",
       " <span></span><span class=\"Label Label--secondary v-align-middle ml-1 mb-1\">Public</span>\n",
       " </h3>,\n",
       " <h3 class=\"wb-break-all\">\n",
       " <a href=\"/AlexTheAnalyst/Excel-Tutorial\" itemprop=\"name codeRepository\">\n",
       "         Excel-Tutorial</a>\n",
       " <span></span><span class=\"Label Label--secondary v-align-middle ml-1 mb-1\">Public</span>\n",
       " </h3>,\n",
       " <h3 class=\"wb-break-all\">\n",
       " <a href=\"/AlexTheAnalyst/Alextheanalyst.com\" itemprop=\"name codeRepository\">\n",
       "         Alextheanalyst.com</a>\n",
       " <span></span><span class=\"Label Label--secondary v-align-middle ml-1 mb-1\">Public</span>\n",
       " </h3>,\n",
       " <h3 class=\"wb-break-all\">\n",
       " <a href=\"/AlexTheAnalyst/AlexTheAnalyst2.github.io\" itemprop=\"name codeRepository\">\n",
       "         AlexTheAnalyst2.github.io</a>\n",
       " <span></span><span class=\"Label Label--secondary v-align-middle ml-1 mb-1\">Public</span>\n",
       " </h3>,\n",
       " <h3 class=\"wb-break-all\">\n",
       " <a href=\"/AlexTheAnalyst/AlexTheAnalyst.github.io\" itemprop=\"name codeRepository\">\n",
       "         AlexTheAnalyst.github.io</a>\n",
       " <span></span><span class=\"Label Label--secondary v-align-middle ml-1 mb-1\">Public</span>\n",
       " </h3>,\n",
       " <h3 class=\"wb-break-all\">\n",
       " <a href=\"/AlexTheAnalyst/PythonCode\" itemprop=\"name codeRepository\">\n",
       "         PythonCode</a>\n",
       " <span></span><span class=\"Label Label--secondary v-align-middle ml-1 mb-1\">Public</span>\n",
       " </h3>]"
      ]
     },
     "execution_count": 18,
     "metadata": {},
     "output_type": "execute_result"
    }
   ],
   "source": [
    "# contain repository name\n",
    "repo_title = doc.find_all('h3',{'class':\"wb-break-all\"})\n",
    "repo_title"
   ]
  },
  {
   "cell_type": "code",
   "execution_count": 19,
   "id": "0ae63799",
   "metadata": {
    "scrolled": true
   },
   "outputs": [
    {
     "name": "stdout",
     "output_type": "stream",
     "text": [
      "['Data-Analytics-Bootcamp', 'PythonYouTubeSeries', 'PortfolioProjects', 'SQL-Code', 'Power-BI', 'AlexTheAnalyst', 'Excel-Tutorial', 'Alextheanalyst.com', 'AlexTheAnalyst2.github.io', 'AlexTheAnalyst.github.io', 'PythonCode']\n"
     ]
    }
   ],
   "source": [
    "# make a list to store repository titles\n",
    "repo_title_names = []\n",
    "for tag in  repo_title:\n",
    "     repo_title_names.append(tag.find('a').text.strip())\n",
    "    \n",
    "print(repo_title_names)\n",
    "\n"
   ]
  },
  {
   "cell_type": "code",
   "execution_count": 21,
   "id": "58b6b534",
   "metadata": {},
   "outputs": [
    {
     "name": "stdout",
     "output_type": "stream",
     "text": [
      "https://github.com/AlexTheAnalyst/Data-Analytics-Bootcamp\n"
     ]
    }
   ],
   "source": [
    "\n",
    "repo0_url = 'https://github.com' + repo_title[0].find('a')['href']\n",
    "print(repo0_url)"
   ]
  },
  {
   "cell_type": "code",
   "execution_count": 22,
   "id": "de0aa967",
   "metadata": {},
   "outputs": [
    {
     "name": "stdout",
     "output_type": "stream",
     "text": [
      "['https://github.com/AlexTheAnalyst/Data-Analytics-Bootcamp', 'https://github.com/AlexTheAnalyst/PythonYouTubeSeries', 'https://github.com/AlexTheAnalyst/PortfolioProjects', 'https://github.com/AlexTheAnalyst/SQL-Code', 'https://github.com/AlexTheAnalyst/Power-BI', 'https://github.com/AlexTheAnalyst/AlexTheAnalyst', 'https://github.com/AlexTheAnalyst/Excel-Tutorial', 'https://github.com/AlexTheAnalyst/Alextheanalyst.com', 'https://github.com/AlexTheAnalyst/AlexTheAnalyst2.github.io', 'https://github.com/AlexTheAnalyst/AlexTheAnalyst.github.io', 'https://github.com/AlexTheAnalyst/PythonCode']\n"
     ]
    },
    {
     "data": {
      "text/plain": [
       "11"
      ]
     },
     "execution_count": 22,
     "metadata": {},
     "output_type": "execute_result"
    }
   ],
   "source": [
    "# make a list for storing repository URL's\n",
    "repo_urls = []\n",
    "base_url = \"https://github.com\"\n",
    "for tag in repo_title:\n",
    "    repo_urls.append(base_url + tag.find('a')['href'] )\n",
    "\n",
    "print(repo_urls)\n",
    "len(repo_urls)"
   ]
  },
  {
   "cell_type": "code",
   "execution_count": 23,
   "id": "838316af",
   "metadata": {},
   "outputs": [
    {
     "data": {
      "text/plain": [
       "'38'"
      ]
     },
     "execution_count": 23,
     "metadata": {},
     "output_type": "execute_result"
    }
   ],
   "source": [
    "#\n",
    "repo_star_tags = doc.find_all('div',{'class':\"f6 color-fg-muted mt-2\"})\n",
    "repo_star_tags[0].find('a').text.strip()\n"
   ]
  },
  {
   "cell_type": "code",
   "execution_count": 24,
   "id": "442aac77",
   "metadata": {},
   "outputs": [
    {
     "name": "stdout",
     "output_type": "stream",
     "text": [
      "['38', '25', '527', '250', '60', '108', '91', '16', '12', '18', '118']\n"
     ]
    }
   ],
   "source": [
    "# make a list to store repository stars\n",
    "repos_stars = []\n",
    "for tag in repo_star_tags:\n",
    "    repos_stars.append(tag.find('a').text.strip())\n",
    "    \n",
    "print(repos_stars)\n"
   ]
  },
  {
   "cell_type": "code",
   "execution_count": 25,
   "id": "d4056ae6",
   "metadata": {},
   "outputs": [
    {
     "data": {
      "text/plain": [
       "'7'"
      ]
     },
     "execution_count": 25,
     "metadata": {},
     "output_type": "execute_result"
    }
   ],
   "source": [
    "import re\n",
    "repo_fork_tags = doc.find_all( href=re.compile(\"members\"))\n",
    "repo_fork_tags[7].text.strip()"
   ]
  },
  {
   "cell_type": "code",
   "execution_count": 26,
   "id": "46dc09c7",
   "metadata": {},
   "outputs": [
    {
     "name": "stdout",
     "output_type": "stream",
     "text": [
      "['3', '4', '663', '147', '20', '14', '51', '7', '4', '115']\n"
     ]
    }
   ],
   "source": [
    "# make a list to store repository forks\n",
    "repo_forks=[]\n",
    "for tag in repo_fork_tags:\n",
    "    repo_forks.append(tag.text.strip())\n",
    "    \n",
    "print(repo_forks)\n",
    "    "
   ]
  },
  {
   "cell_type": "code",
   "execution_count": 27,
   "id": "420610d3",
   "metadata": {},
   "outputs": [
    {
     "data": {
      "text/html": [
       "<div>\n",
       "<style scoped>\n",
       "    .dataframe tbody tr th:only-of-type {\n",
       "        vertical-align: middle;\n",
       "    }\n",
       "\n",
       "    .dataframe tbody tr th {\n",
       "        vertical-align: top;\n",
       "    }\n",
       "\n",
       "    .dataframe thead th {\n",
       "        text-align: right;\n",
       "    }\n",
       "</style>\n",
       "<table border=\"1\" class=\"dataframe\">\n",
       "  <thead>\n",
       "    <tr style=\"text-align: right;\">\n",
       "      <th></th>\n",
       "      <th>repo_names</th>\n",
       "      <th>repo_urls</th>\n",
       "      <th>stars</th>\n",
       "    </tr>\n",
       "  </thead>\n",
       "  <tbody>\n",
       "    <tr>\n",
       "      <th>0</th>\n",
       "      <td>Data-Analytics-Bootcamp</td>\n",
       "      <td>https://github.com/AlexTheAnalyst/Data-Analyti...</td>\n",
       "      <td>38</td>\n",
       "    </tr>\n",
       "    <tr>\n",
       "      <th>1</th>\n",
       "      <td>PythonYouTubeSeries</td>\n",
       "      <td>https://github.com/AlexTheAnalyst/PythonYouTub...</td>\n",
       "      <td>25</td>\n",
       "    </tr>\n",
       "    <tr>\n",
       "      <th>2</th>\n",
       "      <td>PortfolioProjects</td>\n",
       "      <td>https://github.com/AlexTheAnalyst/PortfolioPro...</td>\n",
       "      <td>527</td>\n",
       "    </tr>\n",
       "    <tr>\n",
       "      <th>3</th>\n",
       "      <td>SQL-Code</td>\n",
       "      <td>https://github.com/AlexTheAnalyst/SQL-Code</td>\n",
       "      <td>250</td>\n",
       "    </tr>\n",
       "    <tr>\n",
       "      <th>4</th>\n",
       "      <td>Power-BI</td>\n",
       "      <td>https://github.com/AlexTheAnalyst/Power-BI</td>\n",
       "      <td>60</td>\n",
       "    </tr>\n",
       "    <tr>\n",
       "      <th>5</th>\n",
       "      <td>AlexTheAnalyst</td>\n",
       "      <td>https://github.com/AlexTheAnalyst/AlexTheAnalyst</td>\n",
       "      <td>108</td>\n",
       "    </tr>\n",
       "    <tr>\n",
       "      <th>6</th>\n",
       "      <td>Excel-Tutorial</td>\n",
       "      <td>https://github.com/AlexTheAnalyst/Excel-Tutorial</td>\n",
       "      <td>91</td>\n",
       "    </tr>\n",
       "    <tr>\n",
       "      <th>7</th>\n",
       "      <td>Alextheanalyst.com</td>\n",
       "      <td>https://github.com/AlexTheAnalyst/Alextheanaly...</td>\n",
       "      <td>16</td>\n",
       "    </tr>\n",
       "    <tr>\n",
       "      <th>8</th>\n",
       "      <td>AlexTheAnalyst2.github.io</td>\n",
       "      <td>https://github.com/AlexTheAnalyst/AlexTheAnaly...</td>\n",
       "      <td>12</td>\n",
       "    </tr>\n",
       "    <tr>\n",
       "      <th>9</th>\n",
       "      <td>AlexTheAnalyst.github.io</td>\n",
       "      <td>https://github.com/AlexTheAnalyst/AlexTheAnaly...</td>\n",
       "      <td>18</td>\n",
       "    </tr>\n",
       "    <tr>\n",
       "      <th>10</th>\n",
       "      <td>PythonCode</td>\n",
       "      <td>https://github.com/AlexTheAnalyst/PythonCode</td>\n",
       "      <td>118</td>\n",
       "    </tr>\n",
       "  </tbody>\n",
       "</table>\n",
       "</div>"
      ],
      "text/plain": [
       "                   repo_names  \\\n",
       "0     Data-Analytics-Bootcamp   \n",
       "1         PythonYouTubeSeries   \n",
       "2           PortfolioProjects   \n",
       "3                    SQL-Code   \n",
       "4                    Power-BI   \n",
       "5              AlexTheAnalyst   \n",
       "6              Excel-Tutorial   \n",
       "7          Alextheanalyst.com   \n",
       "8   AlexTheAnalyst2.github.io   \n",
       "9    AlexTheAnalyst.github.io   \n",
       "10                 PythonCode   \n",
       "\n",
       "                                            repo_urls stars  \n",
       "0   https://github.com/AlexTheAnalyst/Data-Analyti...    38  \n",
       "1   https://github.com/AlexTheAnalyst/PythonYouTub...    25  \n",
       "2   https://github.com/AlexTheAnalyst/PortfolioPro...   527  \n",
       "3          https://github.com/AlexTheAnalyst/SQL-Code   250  \n",
       "4          https://github.com/AlexTheAnalyst/Power-BI    60  \n",
       "5    https://github.com/AlexTheAnalyst/AlexTheAnalyst   108  \n",
       "6    https://github.com/AlexTheAnalyst/Excel-Tutorial    91  \n",
       "7   https://github.com/AlexTheAnalyst/Alextheanaly...    16  \n",
       "8   https://github.com/AlexTheAnalyst/AlexTheAnaly...    12  \n",
       "9   https://github.com/AlexTheAnalyst/AlexTheAnaly...    18  \n",
       "10       https://github.com/AlexTheAnalyst/PythonCode   118  "
      ]
     },
     "execution_count": 27,
     "metadata": {},
     "output_type": "execute_result"
    }
   ],
   "source": [
    "# create a dictionary, that contains repo_names, repo_urls and stars\n",
    "repo_dict ={\n",
    "    'repo_names' : repo_title_names,\n",
    "    'repo_urls' : repo_urls,\n",
    "    'stars': repos_stars,\n",
    "        \n",
    "}\n",
    "\n",
    "# To make a data sets of different lists we use pandas library that work on data sets.\n",
    "import pandas as pd\n",
    "\n",
    "repo_df = pd.DataFrame(repo_dict)\n",
    "repo_df\n",
    "\n"
   ]
  },
  {
   "cell_type": "code",
   "execution_count": null,
   "id": "39224da7",
   "metadata": {},
   "outputs": [],
   "source": [
    "#convert the data set into the csv file\n",
    "\n",
    "repo_df.to_csv('user_repo_info.csv',index=None)\n",
    "    \n"
   ]
  },
  {
   "cell_type": "code",
   "execution_count": null,
   "id": "55b60be6",
   "metadata": {},
   "outputs": [],
   "source": []
  },
  {
   "cell_type": "code",
   "execution_count": null,
   "id": "470b0aac",
   "metadata": {},
   "outputs": [],
   "source": []
  },
  {
   "cell_type": "code",
   "execution_count": null,
   "id": "ef90fab5",
   "metadata": {},
   "outputs": [],
   "source": []
  }
 ],
 "metadata": {
  "kernelspec": {
   "display_name": "Python 3 (ipykernel)",
   "language": "python",
   "name": "python3"
  },
  "language_info": {
   "codemirror_mode": {
    "name": "ipython",
    "version": 3
   },
   "file_extension": ".py",
   "mimetype": "text/x-python",
   "name": "python",
   "nbconvert_exporter": "python",
   "pygments_lexer": "ipython3",
   "version": "3.9.13"
  }
 },
 "nbformat": 4,
 "nbformat_minor": 5
}
